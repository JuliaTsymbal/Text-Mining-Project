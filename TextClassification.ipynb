{
  "nbformat": 4,
  "nbformat_minor": 0,
  "metadata": {
    "colab": {
      "provenance": []
    },
    "kernelspec": {
      "name": "python3",
      "display_name": "Python 3"
    },
    "language_info": {
      "name": "python"
    }
  },
  "cells": [
    {
      "cell_type": "markdown",
      "source": [
        "### In this notebook developed BBC News **classification** using TF-IDF and Word2Vec text representation.\n",
        "\n",
        "### Methods for the classification are Logistic Regression, Decision tree, Random forest, SVM, XGBoost"
      ],
      "metadata": {
        "id": "qDqgWAYEV3fl"
      }
    },
    {
      "cell_type": "markdown",
      "source": [
        "### TF-IDF vs Word2Vec\n",
        "\n",
        "TF-IDF (term frequency-inverse document frequency) and Word2Vec are popular algorithms used in natural language processing, but they serve different purposes.\n",
        "\n",
        "TF-IDF is a simple and widely used method for text representation. It assigns weights to words in a document based on their frequency in the document and inverse frequency in the corpus. The idea is that words that are frequent in a document but rare in the corpus are likely to be important for that document’s meaning. This approach is commonly used for information retrieval and text classification tasks.\n",
        "\n",
        "Word2Vec, on the other hand, is a more complex algorithm that learns vector representations (embeddings) of words based on their context in a large corpus of text. These embeddings show how words are related semantically and grammatically. They can be used for various natural language processing tasks, such as finding word analogies and similar words and putting texts into groups.\n",
        "\n",
        "So, when it comes to text classification specifically, which one is better? The answer is it depends on the task and the data.\n",
        "\n",
        "TF-IDF is a good choice when the documents in the dataset are relatively short and the vocabulary size is small. It is also computationally efficient and can handle large datasets. However, TF-IDF needs to capture the meaning of words or their relationships, so it may not be adequate for some text classification tasks.\n",
        "\n",
        "Word2Vec, on the other hand, is better suited for larger and more complex datasets, where words have multiple meanings and relationships between them are essential. It is particularly effective when the task involves identifying similarities or relationships between documents, such as clustering or document retrieval. However, Word2Vec requires a large amount of data and computational resources to train, and it may perform poorly when limited training data is available.\n",
        "\n",
        "In summary, both TF-IDF and Word2Vec have their strengths and weaknesses, and the choice of algorithm depends on the specific task, the data, and available resources."
      ],
      "metadata": {
        "id": "yeuReUOokyQ8"
      }
    },
    {
      "cell_type": "code",
      "execution_count": 1,
      "metadata": {
        "id": "ehGGh7czKxfp"
      },
      "outputs": [],
      "source": [
        "import pandas as pd\n",
        "import seaborn as sns\n",
        "import matplotlib.pyplot as plt\n",
        "import numpy as np\n",
        "\n",
        "from sklearn.feature_extraction.text import TfidfVectorizer\n",
        "from sklearn.model_selection import train_test_split\n",
        "from sklearn.naive_bayes import MultinomialNB\n",
        "from sklearn.tree import DecisionTreeClassifier\n",
        "from sklearn.ensemble import RandomForestClassifier\n",
        "from sklearn.metrics import confusion_matrix, accuracy_score, classification_report\n",
        "\n",
        "from gensim.models import Word2Vec\n",
        "import ast\n",
        "from sklearn.preprocessing import LabelEncoder\n",
        "from sklearn.linear_model import LogisticRegression\n",
        "from xgboost import XGBClassifier\n",
        "from sklearn.svm import SVC\n",
        "\n",
        "import warnings\n",
        "warnings.simplefilter(action='ignore', category=FutureWarning)"
      ]
    },
    {
      "cell_type": "code",
      "source": [
        "from google.colab import drive\n",
        "drive.mount('/content/drive')"
      ],
      "metadata": {
        "colab": {
          "base_uri": "https://localhost:8080/"
        },
        "id": "lEJQV681LgzJ",
        "outputId": "b05574c4-2bc5-49e1-fc18-b83ae9304648"
      },
      "execution_count": 2,
      "outputs": [
        {
          "output_type": "stream",
          "name": "stdout",
          "text": [
            "Drive already mounted at /content/drive; to attempt to forcibly remount, call drive.mount(\"/content/drive\", force_remount=True).\n"
          ]
        }
      ]
    },
    {
      "cell_type": "code",
      "source": [
        "clean_text = pd.read_csv('/content/drive/MyDrive/Text Mining Project/clean_text.csv')"
      ],
      "metadata": {
        "id": "mI19eXLoLofZ"
      },
      "execution_count": 3,
      "outputs": []
    },
    {
      "cell_type": "code",
      "source": [
        "clean_text.head()"
      ],
      "metadata": {
        "colab": {
          "base_uri": "https://localhost:8080/",
          "height": 206
        },
        "id": "PpZUKJYZL_XW",
        "outputId": "c24b5ad9-be82-4d65-be3a-42edb3d8bef1"
      },
      "execution_count": 4,
      "outputs": [
        {
          "output_type": "execute_result",
          "data": {
            "text/plain": [
              "   category  article_id                                               text\n",
              "0  business          73  ['german', 'growth', 'goe', 'revers', 'germani...\n",
              "1  business         352  ['share', 'boost', 'feud', 'hit', 'relianc', '...\n",
              "2  business         279  ['german', 'bidder', 'talk', 'lse', 'deutsch',...\n",
              "3  business         447  ['news', 'corp', 'eye', 'video', 'game', 'mark...\n",
              "4  business         242  ['q', 'malcolm', 'glazer', 'man', 'utd', 'batt..."
            ],
            "text/html": [
              "\n",
              "  <div id=\"df-a131cef0-a6b5-43bd-bf9c-068835f791db\" class=\"colab-df-container\">\n",
              "    <div>\n",
              "<style scoped>\n",
              "    .dataframe tbody tr th:only-of-type {\n",
              "        vertical-align: middle;\n",
              "    }\n",
              "\n",
              "    .dataframe tbody tr th {\n",
              "        vertical-align: top;\n",
              "    }\n",
              "\n",
              "    .dataframe thead th {\n",
              "        text-align: right;\n",
              "    }\n",
              "</style>\n",
              "<table border=\"1\" class=\"dataframe\">\n",
              "  <thead>\n",
              "    <tr style=\"text-align: right;\">\n",
              "      <th></th>\n",
              "      <th>category</th>\n",
              "      <th>article_id</th>\n",
              "      <th>text</th>\n",
              "    </tr>\n",
              "  </thead>\n",
              "  <tbody>\n",
              "    <tr>\n",
              "      <th>0</th>\n",
              "      <td>business</td>\n",
              "      <td>73</td>\n",
              "      <td>['german', 'growth', 'goe', 'revers', 'germani...</td>\n",
              "    </tr>\n",
              "    <tr>\n",
              "      <th>1</th>\n",
              "      <td>business</td>\n",
              "      <td>352</td>\n",
              "      <td>['share', 'boost', 'feud', 'hit', 'relianc', '...</td>\n",
              "    </tr>\n",
              "    <tr>\n",
              "      <th>2</th>\n",
              "      <td>business</td>\n",
              "      <td>279</td>\n",
              "      <td>['german', 'bidder', 'talk', 'lse', 'deutsch',...</td>\n",
              "    </tr>\n",
              "    <tr>\n",
              "      <th>3</th>\n",
              "      <td>business</td>\n",
              "      <td>447</td>\n",
              "      <td>['news', 'corp', 'eye', 'video', 'game', 'mark...</td>\n",
              "    </tr>\n",
              "    <tr>\n",
              "      <th>4</th>\n",
              "      <td>business</td>\n",
              "      <td>242</td>\n",
              "      <td>['q', 'malcolm', 'glazer', 'man', 'utd', 'batt...</td>\n",
              "    </tr>\n",
              "  </tbody>\n",
              "</table>\n",
              "</div>\n",
              "    <div class=\"colab-df-buttons\">\n",
              "\n",
              "  <div class=\"colab-df-container\">\n",
              "    <button class=\"colab-df-convert\" onclick=\"convertToInteractive('df-a131cef0-a6b5-43bd-bf9c-068835f791db')\"\n",
              "            title=\"Convert this dataframe to an interactive table.\"\n",
              "            style=\"display:none;\">\n",
              "\n",
              "  <svg xmlns=\"http://www.w3.org/2000/svg\" height=\"24px\" viewBox=\"0 -960 960 960\">\n",
              "    <path d=\"M120-120v-720h720v720H120Zm60-500h600v-160H180v160Zm220 220h160v-160H400v160Zm0 220h160v-160H400v160ZM180-400h160v-160H180v160Zm440 0h160v-160H620v160ZM180-180h160v-160H180v160Zm440 0h160v-160H620v160Z\"/>\n",
              "  </svg>\n",
              "    </button>\n",
              "\n",
              "  <style>\n",
              "    .colab-df-container {\n",
              "      display:flex;\n",
              "      gap: 12px;\n",
              "    }\n",
              "\n",
              "    .colab-df-convert {\n",
              "      background-color: #E8F0FE;\n",
              "      border: none;\n",
              "      border-radius: 50%;\n",
              "      cursor: pointer;\n",
              "      display: none;\n",
              "      fill: #1967D2;\n",
              "      height: 32px;\n",
              "      padding: 0 0 0 0;\n",
              "      width: 32px;\n",
              "    }\n",
              "\n",
              "    .colab-df-convert:hover {\n",
              "      background-color: #E2EBFA;\n",
              "      box-shadow: 0px 1px 2px rgba(60, 64, 67, 0.3), 0px 1px 3px 1px rgba(60, 64, 67, 0.15);\n",
              "      fill: #174EA6;\n",
              "    }\n",
              "\n",
              "    .colab-df-buttons div {\n",
              "      margin-bottom: 4px;\n",
              "    }\n",
              "\n",
              "    [theme=dark] .colab-df-convert {\n",
              "      background-color: #3B4455;\n",
              "      fill: #D2E3FC;\n",
              "    }\n",
              "\n",
              "    [theme=dark] .colab-df-convert:hover {\n",
              "      background-color: #434B5C;\n",
              "      box-shadow: 0px 1px 3px 1px rgba(0, 0, 0, 0.15);\n",
              "      filter: drop-shadow(0px 1px 2px rgba(0, 0, 0, 0.3));\n",
              "      fill: #FFFFFF;\n",
              "    }\n",
              "  </style>\n",
              "\n",
              "    <script>\n",
              "      const buttonEl =\n",
              "        document.querySelector('#df-a131cef0-a6b5-43bd-bf9c-068835f791db button.colab-df-convert');\n",
              "      buttonEl.style.display =\n",
              "        google.colab.kernel.accessAllowed ? 'block' : 'none';\n",
              "\n",
              "      async function convertToInteractive(key) {\n",
              "        const element = document.querySelector('#df-a131cef0-a6b5-43bd-bf9c-068835f791db');\n",
              "        const dataTable =\n",
              "          await google.colab.kernel.invokeFunction('convertToInteractive',\n",
              "                                                    [key], {});\n",
              "        if (!dataTable) return;\n",
              "\n",
              "        const docLinkHtml = 'Like what you see? Visit the ' +\n",
              "          '<a target=\"_blank\" href=https://colab.research.google.com/notebooks/data_table.ipynb>data table notebook</a>'\n",
              "          + ' to learn more about interactive tables.';\n",
              "        element.innerHTML = '';\n",
              "        dataTable['output_type'] = 'display_data';\n",
              "        await google.colab.output.renderOutput(dataTable, element);\n",
              "        const docLink = document.createElement('div');\n",
              "        docLink.innerHTML = docLinkHtml;\n",
              "        element.appendChild(docLink);\n",
              "      }\n",
              "    </script>\n",
              "  </div>\n",
              "\n",
              "\n",
              "<div id=\"df-11cc39e9-c836-45fd-823c-42a7c63e77cf\">\n",
              "  <button class=\"colab-df-quickchart\" onclick=\"quickchart('df-11cc39e9-c836-45fd-823c-42a7c63e77cf')\"\n",
              "            title=\"Suggest charts\"\n",
              "            style=\"display:none;\">\n",
              "\n",
              "<svg xmlns=\"http://www.w3.org/2000/svg\" height=\"24px\"viewBox=\"0 0 24 24\"\n",
              "     width=\"24px\">\n",
              "    <g>\n",
              "        <path d=\"M19 3H5c-1.1 0-2 .9-2 2v14c0 1.1.9 2 2 2h14c1.1 0 2-.9 2-2V5c0-1.1-.9-2-2-2zM9 17H7v-7h2v7zm4 0h-2V7h2v10zm4 0h-2v-4h2v4z\"/>\n",
              "    </g>\n",
              "</svg>\n",
              "  </button>\n",
              "\n",
              "<style>\n",
              "  .colab-df-quickchart {\n",
              "      --bg-color: #E8F0FE;\n",
              "      --fill-color: #1967D2;\n",
              "      --hover-bg-color: #E2EBFA;\n",
              "      --hover-fill-color: #174EA6;\n",
              "      --disabled-fill-color: #AAA;\n",
              "      --disabled-bg-color: #DDD;\n",
              "  }\n",
              "\n",
              "  [theme=dark] .colab-df-quickchart {\n",
              "      --bg-color: #3B4455;\n",
              "      --fill-color: #D2E3FC;\n",
              "      --hover-bg-color: #434B5C;\n",
              "      --hover-fill-color: #FFFFFF;\n",
              "      --disabled-bg-color: #3B4455;\n",
              "      --disabled-fill-color: #666;\n",
              "  }\n",
              "\n",
              "  .colab-df-quickchart {\n",
              "    background-color: var(--bg-color);\n",
              "    border: none;\n",
              "    border-radius: 50%;\n",
              "    cursor: pointer;\n",
              "    display: none;\n",
              "    fill: var(--fill-color);\n",
              "    height: 32px;\n",
              "    padding: 0;\n",
              "    width: 32px;\n",
              "  }\n",
              "\n",
              "  .colab-df-quickchart:hover {\n",
              "    background-color: var(--hover-bg-color);\n",
              "    box-shadow: 0 1px 2px rgba(60, 64, 67, 0.3), 0 1px 3px 1px rgba(60, 64, 67, 0.15);\n",
              "    fill: var(--button-hover-fill-color);\n",
              "  }\n",
              "\n",
              "  .colab-df-quickchart-complete:disabled,\n",
              "  .colab-df-quickchart-complete:disabled:hover {\n",
              "    background-color: var(--disabled-bg-color);\n",
              "    fill: var(--disabled-fill-color);\n",
              "    box-shadow: none;\n",
              "  }\n",
              "\n",
              "  .colab-df-spinner {\n",
              "    border: 2px solid var(--fill-color);\n",
              "    border-color: transparent;\n",
              "    border-bottom-color: var(--fill-color);\n",
              "    animation:\n",
              "      spin 1s steps(1) infinite;\n",
              "  }\n",
              "\n",
              "  @keyframes spin {\n",
              "    0% {\n",
              "      border-color: transparent;\n",
              "      border-bottom-color: var(--fill-color);\n",
              "      border-left-color: var(--fill-color);\n",
              "    }\n",
              "    20% {\n",
              "      border-color: transparent;\n",
              "      border-left-color: var(--fill-color);\n",
              "      border-top-color: var(--fill-color);\n",
              "    }\n",
              "    30% {\n",
              "      border-color: transparent;\n",
              "      border-left-color: var(--fill-color);\n",
              "      border-top-color: var(--fill-color);\n",
              "      border-right-color: var(--fill-color);\n",
              "    }\n",
              "    40% {\n",
              "      border-color: transparent;\n",
              "      border-right-color: var(--fill-color);\n",
              "      border-top-color: var(--fill-color);\n",
              "    }\n",
              "    60% {\n",
              "      border-color: transparent;\n",
              "      border-right-color: var(--fill-color);\n",
              "    }\n",
              "    80% {\n",
              "      border-color: transparent;\n",
              "      border-right-color: var(--fill-color);\n",
              "      border-bottom-color: var(--fill-color);\n",
              "    }\n",
              "    90% {\n",
              "      border-color: transparent;\n",
              "      border-bottom-color: var(--fill-color);\n",
              "    }\n",
              "  }\n",
              "</style>\n",
              "\n",
              "  <script>\n",
              "    async function quickchart(key) {\n",
              "      const quickchartButtonEl =\n",
              "        document.querySelector('#' + key + ' button');\n",
              "      quickchartButtonEl.disabled = true;  // To prevent multiple clicks.\n",
              "      quickchartButtonEl.classList.add('colab-df-spinner');\n",
              "      try {\n",
              "        const charts = await google.colab.kernel.invokeFunction(\n",
              "            'suggestCharts', [key], {});\n",
              "      } catch (error) {\n",
              "        console.error('Error during call to suggestCharts:', error);\n",
              "      }\n",
              "      quickchartButtonEl.classList.remove('colab-df-spinner');\n",
              "      quickchartButtonEl.classList.add('colab-df-quickchart-complete');\n",
              "    }\n",
              "    (() => {\n",
              "      let quickchartButtonEl =\n",
              "        document.querySelector('#df-11cc39e9-c836-45fd-823c-42a7c63e77cf button');\n",
              "      quickchartButtonEl.style.display =\n",
              "        google.colab.kernel.accessAllowed ? 'block' : 'none';\n",
              "    })();\n",
              "  </script>\n",
              "</div>\n",
              "    </div>\n",
              "  </div>\n"
            ]
          },
          "metadata": {},
          "execution_count": 4
        }
      ]
    },
    {
      "cell_type": "markdown",
      "source": [
        "Splitting dataset for the training and test sets before applying TfidfVectorizer. By splitting our dataset first and then applying TF-IDF separately to the training and test sets, we ensure that our model generalizes well to unseen data."
      ],
      "metadata": {
        "id": "Ny58gqGgMzrB"
      }
    },
    {
      "cell_type": "code",
      "source": [
        "X_train, X_test, y_train, y_test = train_test_split(clean_text['text'], clean_text['category'], test_size=0.2, random_state=42)"
      ],
      "metadata": {
        "id": "LUcy4S6DTgUY"
      },
      "execution_count": 5,
      "outputs": []
    },
    {
      "cell_type": "code",
      "source": [
        "X_train.head()"
      ],
      "metadata": {
        "colab": {
          "base_uri": "https://localhost:8080/"
        },
        "id": "_yF4EHrcFnSC",
        "outputId": "22bdfd0d-ed7e-4eb7-e920-eb2da97b1e04"
      },
      "execution_count": 6,
      "outputs": [
        {
          "output_type": "execute_result",
          "data": {
            "text/plain": [
              "23      ['call', 'save', 'manufactur', 'job', 'trade',...\n",
              "1903    ['microsoft', 'releas', 'patch', 'microsoft', ...\n",
              "427     ['huge', 'rush', 'jet', 'airway', 'share', 'in...\n",
              "554     ['jail', 'singer', 'courtney', 'love', 'singer...\n",
              "1767    ['white', 'admit', 'balco', 'drug', 'link', 'b...\n",
              "Name: text, dtype: object"
            ]
          },
          "metadata": {},
          "execution_count": 6
        }
      ]
    },
    {
      "cell_type": "code",
      "source": [
        "print(f\"Size of input training features is {X_train.shape}\")\n",
        "print(f\"Size of input test features is {X_test.shape}\")\n",
        "print(f\"Size of output training labels is {y_train.shape}\")\n",
        "print(f\"Size of output test labels is {y_test.shape}\")"
      ],
      "metadata": {
        "colab": {
          "base_uri": "https://localhost:8080/"
        },
        "id": "YxP_uxQqF4ET",
        "outputId": "42ab1121-4f64-4534-a8be-a087448b5f65"
      },
      "execution_count": 7,
      "outputs": [
        {
          "output_type": "stream",
          "name": "stdout",
          "text": [
            "Size of input training features is (1779,)\n",
            "Size of input test features is (445,)\n",
            "Size of output training labels is (1779,)\n",
            "Size of output test labels is (445,)\n"
          ]
        }
      ]
    },
    {
      "cell_type": "code",
      "source": [
        "# Encode labels\n",
        "label_encoder = LabelEncoder()\n",
        "y_train_encoded = label_encoder.fit_transform(y_train)\n",
        "y_test_encoded = label_encoder.transform(y_test)"
      ],
      "metadata": {
        "id": "5ggRGjktPTV1"
      },
      "execution_count": 8,
      "outputs": []
    },
    {
      "cell_type": "code",
      "source": [
        "label_mapping = dict(zip(label_encoder.classes_, label_encoder.transform(label_encoder.classes_)))\n",
        "print(\"Label Mapping:\")\n",
        "for category, label in label_mapping.items():\n",
        "    print(f\"{category}: {label}\")"
      ],
      "metadata": {
        "colab": {
          "base_uri": "https://localhost:8080/"
        },
        "id": "Nbu3sZtlb97A",
        "outputId": "9c2e4173-54fd-40df-fbfd-77990e7cfc61"
      },
      "execution_count": 9,
      "outputs": [
        {
          "output_type": "stream",
          "name": "stdout",
          "text": [
            "Label Mapping:\n",
            "business: 0\n",
            "entertainment: 1\n",
            "politics: 2\n",
            "sport: 3\n",
            "tech: 4\n"
          ]
        }
      ]
    },
    {
      "cell_type": "markdown",
      "source": [
        "### TF-IDF Vectorizer\n",
        "Convert a collection of raw documents to a matrix of TF-IDF features.\n",
        "When transforming the test set using the TF-IDF vectorizer, we use the same vectorizer instance that was fit on the training set. This ensures consistency in the transformation process. We don't fit a new vectorizer on the test set, as it may introduce information from the test set into the model training process, leading to data leakage."
      ],
      "metadata": {
        "id": "_0tXkp99Mpvy"
      }
    },
    {
      "cell_type": "code",
      "source": [
        "# Create the TF-IDF vectorizer and fit it on the training set\n",
        "vectorizer = TfidfVectorizer()\n",
        "X_train_tfidf = vectorizer.fit_transform(X_train)\n",
        "X_test_tfidf = vectorizer.transform(X_test)"
      ],
      "metadata": {
        "id": "24tvSD5vMAXs"
      },
      "execution_count": 10,
      "outputs": []
    },
    {
      "cell_type": "code",
      "source": [
        "X_train_tfidf.shape"
      ],
      "metadata": {
        "colab": {
          "base_uri": "https://localhost:8080/"
        },
        "id": "FJFAsohrN8lo",
        "outputId": "7635ae2b-f817-4b99-e9ab-b1db16e1bf75"
      },
      "execution_count": 11,
      "outputs": [
        {
          "output_type": "execute_result",
          "data": {
            "text/plain": [
              "(1779, 17443)"
            ]
          },
          "metadata": {},
          "execution_count": 11
        }
      ]
    },
    {
      "cell_type": "code",
      "source": [
        "X_test_tfidf.shape"
      ],
      "metadata": {
        "colab": {
          "base_uri": "https://localhost:8080/"
        },
        "id": "Ngy7NDiiIt2a",
        "outputId": "4ac2f72d-6760-4d83-dd33-ecdb7f13402b"
      },
      "execution_count": 12,
      "outputs": [
        {
          "output_type": "execute_result",
          "data": {
            "text/plain": [
              "(445, 17443)"
            ]
          },
          "metadata": {},
          "execution_count": 12
        }
      ]
    },
    {
      "cell_type": "code",
      "source": [
        "# Convert the TF-IDF matrix to a pandas DataFrame for better readability\n",
        "terms = vectorizer.get_feature_names_out()\n",
        "tfidf_df = pd.DataFrame(X_train_tfidf.toarray(), columns=terms)"
      ],
      "metadata": {
        "id": "E_ADW6AXPDS4"
      },
      "execution_count": 13,
      "outputs": []
    },
    {
      "cell_type": "markdown",
      "source": [
        "### Word2Vec"
      ],
      "metadata": {
        "id": "YuG4jIo7cvHj"
      }
    },
    {
      "cell_type": "code",
      "source": [
        "X_train_list = X_train.apply(ast.literal_eval).tolist()\n",
        "X_test_list = X_test.apply(ast.literal_eval).tolist()"
      ],
      "metadata": {
        "id": "S2AO4lXGMX0n"
      },
      "execution_count": 14,
      "outputs": []
    },
    {
      "cell_type": "code",
      "source": [
        "X_train.head()"
      ],
      "metadata": {
        "colab": {
          "base_uri": "https://localhost:8080/"
        },
        "id": "oEKeFvqCsHXh",
        "outputId": "709cbb56-68ec-462b-8235-e66894c84b23"
      },
      "execution_count": 15,
      "outputs": [
        {
          "output_type": "execute_result",
          "data": {
            "text/plain": [
              "23      ['call', 'save', 'manufactur', 'job', 'trade',...\n",
              "1903    ['microsoft', 'releas', 'patch', 'microsoft', ...\n",
              "427     ['huge', 'rush', 'jet', 'airway', 'share', 'in...\n",
              "554     ['jail', 'singer', 'courtney', 'love', 'singer...\n",
              "1767    ['white', 'admit', 'balco', 'drug', 'link', 'b...\n",
              "Name: text, dtype: object"
            ]
          },
          "metadata": {},
          "execution_count": 15
        }
      ]
    },
    {
      "cell_type": "code",
      "source": [
        "word2vec_model = Word2Vec(sentences=X_train_list, vector_size=100, window=3, min_count=1, workers=4)"
      ],
      "metadata": {
        "id": "EnK5kKanm3PK"
      },
      "execution_count": 16,
      "outputs": []
    },
    {
      "cell_type": "code",
      "source": [
        "X_train_word2vec = [word2vec_model.wv[word] for word in X_train_list]\n",
        "X_test_word2vec = [\n",
        "    [word2vec_model.wv[word] if word in word2vec_model.wv else [0] * word2vec_model.vector_size for word in sentence]\n",
        "    for sentence in X_test_list\n",
        "]"
      ],
      "metadata": {
        "id": "bQA7ZBQ3vde8"
      },
      "execution_count": 17,
      "outputs": []
    },
    {
      "cell_type": "code",
      "source": [
        "len(X_train_word2vec[0])"
      ],
      "metadata": {
        "colab": {
          "base_uri": "https://localhost:8080/"
        },
        "id": "YqyMUzrnxPTT",
        "outputId": "ff22d907-3294-49f9-afdb-5a74939f4728"
      },
      "execution_count": 18,
      "outputs": [
        {
          "output_type": "execute_result",
          "data": {
            "text/plain": [
              "110"
            ]
          },
          "metadata": {},
          "execution_count": 18
        }
      ]
    },
    {
      "cell_type": "code",
      "source": [
        "X_train_word2vec[0:2]"
      ],
      "metadata": {
        "colab": {
          "base_uri": "https://localhost:8080/"
        },
        "id": "b3Yqf5rlSxr7",
        "outputId": "bc6d4647-effc-4f2d-8677-748185ea9225"
      },
      "execution_count": 19,
      "outputs": [
        {
          "output_type": "execute_result",
          "data": {
            "text/plain": [
              "[array([[-0.512667  ,  0.47407603,  0.2769729 , ..., -0.7091385 ,\n",
              "         -0.55814135, -0.58381236],\n",
              "        [-0.49617082,  0.4497134 ,  0.21586534, ..., -0.618703  ,\n",
              "          0.00727014, -0.13810955],\n",
              "        [-0.44743824,  0.34670177,  0.18040629, ..., -0.5645348 ,\n",
              "          0.06803077, -0.08954792],\n",
              "        ...,\n",
              "        [-0.6771078 ,  0.34198055,  0.35456142, ..., -0.5330733 ,\n",
              "          0.05672456, -0.4737484 ],\n",
              "        [-0.44743824,  0.34670177,  0.18040629, ..., -0.5645348 ,\n",
              "          0.06803077, -0.08954792],\n",
              "        [-0.5174087 ,  0.3761263 ,  0.22118266, ..., -0.69374484,\n",
              "         -0.0593505 , -0.2134541 ]], dtype=float32),\n",
              " array([[-0.6220534 ,  0.36299685,  0.27826074, ..., -0.67634296,\n",
              "         -0.12218522, -0.3976517 ],\n",
              "        [-0.44010937,  0.4656337 ,  0.00756378, ..., -0.67913145,\n",
              "          0.6096799 ,  0.49215275],\n",
              "        [-0.16342326,  0.13852672,  0.06278528, ..., -0.22302046,\n",
              "          0.00300642, -0.04421066],\n",
              "        ...,\n",
              "        [-0.5740334 ,  0.40184152,  0.3849905 , ..., -0.45190242,\n",
              "          0.07523227, -0.4891936 ],\n",
              "        [-0.78874236,  0.39582098,  0.411483  , ..., -0.8841301 ,\n",
              "         -0.48718882, -0.5786756 ],\n",
              "        [-0.71494526,  0.37637067,  0.37909132, ..., -0.69820476,\n",
              "         -0.10342439, -0.43624735]], dtype=float32)]"
            ]
          },
          "metadata": {},
          "execution_count": 19
        }
      ]
    },
    {
      "cell_type": "code",
      "source": [
        "# Aggregate embeddings (using average along axis=0 to average along the word dimension)\n",
        "# Stack the aggregated embeddings into a single array\n",
        "\n",
        "X_train_aggregated = [np.mean(embeddings, axis=0) for embeddings in X_train_word2vec]\n",
        "X_train_aggregated = np.vstack(X_train_aggregated)\n",
        "\n",
        "X_test_aggregated = [np.mean(embeddings, axis=0) for embeddings in X_test_word2vec]\n",
        "X_test_aggregated = np.vstack(X_test_aggregated)"
      ],
      "metadata": {
        "id": "_JiDp83mQ7HB"
      },
      "execution_count": 20,
      "outputs": []
    },
    {
      "cell_type": "code",
      "source": [
        "X_test_aggregated[0]"
      ],
      "metadata": {
        "colab": {
          "base_uri": "https://localhost:8080/"
        },
        "id": "hblYZHCARA2h",
        "outputId": "bd734484-6552-4dc2-b7f3-89815c747301"
      },
      "execution_count": 21,
      "outputs": [
        {
          "output_type": "execute_result",
          "data": {
            "text/plain": [
              "array([-0.46129206,  0.30283093,  0.19124681, -0.01671195,  0.07893978,\n",
              "       -0.6989431 ,  0.11632861,  0.71834922, -0.16455356, -0.07837053,\n",
              "       -0.11570006, -0.53594364, -0.05346393,  0.06451627, -0.03973641,\n",
              "       -0.33140418,  0.11396189, -0.36822496,  0.13791109, -0.78655673,\n",
              "        0.19609341,  0.15311317,  0.31576137, -0.27657577, -0.02475061,\n",
              "        0.06438999, -0.25556089, -0.14919489, -0.35128165, -0.15591526,\n",
              "        0.44028372,  0.07685839, -0.08811341, -0.1376548 ,  0.01172961,\n",
              "        0.34996296,  0.04296022, -0.18157134, -0.29761223, -0.63597203,\n",
              "       -0.06309494, -0.34196856, -0.0798602 ,  0.0115733 ,  0.21933504,\n",
              "       -0.12436082, -0.31898648,  0.07255327,  0.27711133,  0.33448053,\n",
              "        0.05445192, -0.32536288, -0.15537821,  0.13389263, -0.55044507,\n",
              "        0.02522832,  0.18346737,  0.0476405 , -0.60428017,  0.12463033,\n",
              "        0.14998311,  0.10801161, -0.14076302,  0.04664287, -0.59320264,\n",
              "        0.21233042,  0.05626844,  0.22339168, -0.30018694,  0.46021615,\n",
              "       -0.13698875,  0.27980466,  0.41491271, -0.11380571,  0.37842759,\n",
              "        0.35962409, -0.01811226, -0.10486827, -0.47622298,  0.14061587,\n",
              "       -0.21804848,  0.08950848, -0.27145687,  0.55455727,  0.12129912,\n",
              "       -0.01796718, -0.07489096,  0.53229134,  0.37329654,  0.12189177,\n",
              "        0.41986975,  0.11130654,  0.10746136,  0.18745646,  0.67524916,\n",
              "        0.34213902,  0.02669709, -0.54037281,  0.07495004, -0.12089092])"
            ]
          },
          "metadata": {},
          "execution_count": 21
        }
      ]
    },
    {
      "cell_type": "markdown",
      "source": [
        "# Classification"
      ],
      "metadata": {
        "id": "uZXvziVFc8hh"
      }
    },
    {
      "cell_type": "code",
      "source": [
        "def evaluation(y_test, y_pred, model):\n",
        "\n",
        "  report = classification_report(y_test, y_pred)\n",
        "  print(\"Classification Report:\\n\", report)\n",
        "\n",
        "  conf_matrix = confusion_matrix(y_test, y_pred)\n",
        "\n",
        "  plt.figure(figsize=(5, 4))\n",
        "  sns.heatmap(conf_matrix, annot=True, fmt=\"d\", cmap=\"Blues\", xticklabels=model.classes_, yticklabels=model.classes_)\n",
        "  plt.title(\"Confusion Matrix\")\n",
        "  plt.xlabel(\"Predicted Labels\")\n",
        "  plt.ylabel(\"True Labels\")\n",
        "  plt.show()"
      ],
      "metadata": {
        "id": "LSlwR_1sbjpy"
      },
      "execution_count": 22,
      "outputs": []
    },
    {
      "cell_type": "code",
      "source": [
        "def modeling(model, X_train, y_train, X_test, y_test):\n",
        "    model.fit(X_train, y_train)\n",
        "    y_pred = model.predict(X_test)\n",
        "    report = classification_report(y_test, y_pred, output_dict=True)\n",
        "    metrics = {\n",
        "        'precision': report['weighted avg']['precision'],\n",
        "        'recall': report['weighted avg']['recall'],\n",
        "        'f1-score': report['weighted avg']['f1-score']\n",
        "    }\n",
        "    return model, y_pred, metrics\n"
      ],
      "metadata": {
        "id": "tesfY1KIbjpz"
      },
      "execution_count": 23,
      "outputs": []
    },
    {
      "cell_type": "markdown",
      "source": [
        "# Classification based on Tf-Idf"
      ],
      "metadata": {
        "id": "Hu0FQ5IsbngI"
      }
    },
    {
      "cell_type": "code",
      "source": [
        "models = [\n",
        "    ('LogReg', LogisticRegression(max_iter=1000)),\n",
        "    ('SVM', SVC()),\n",
        "    ('XGBoost', XGBClassifier()),\n",
        "    ('DecisionTree', DecisionTreeClassifier()),\n",
        "    ('RanForest', RandomForestClassifier()),\n",
        "]"
      ],
      "metadata": {
        "id": "jwE66FOudmiD"
      },
      "execution_count": 24,
      "outputs": []
    },
    {
      "cell_type": "code",
      "source": [
        "results_tfidf = pd.DataFrame()\n",
        "trained_models_dict = {}\n",
        "predictions_dict = {}\n",
        "\n",
        "# Evaluate each model and store the results in the DataFrame\n",
        "for model_name, model in models:\n",
        "    trained_model, y_pred, metrics = modeling(model, X_train_tfidf, y_train_encoded, X_test_tfidf, y_test_encoded)\n",
        "    results_tfidf = results_tfidf.append({'Model': model_name, **metrics}, ignore_index=True)\n",
        "\n",
        "    # Store the results in dictionaries\n",
        "    trained_models_dict[model_name] = trained_model\n",
        "    predictions_dict[model_name] = y_pred\n"
      ],
      "metadata": {
        "id": "mzdWihRuRV6T"
      },
      "execution_count": 25,
      "outputs": []
    },
    {
      "cell_type": "code",
      "source": [
        "results_tfidf"
      ],
      "metadata": {
        "colab": {
          "base_uri": "https://localhost:8080/",
          "height": 206
        },
        "id": "I62YZYQfRpE4",
        "outputId": "933bea51-51fd-413b-b884-5e4dd35f3f88"
      },
      "execution_count": 26,
      "outputs": [
        {
          "output_type": "execute_result",
          "data": {
            "text/plain": [
              "          Model  precision    recall  f1-score\n",
              "0        LogReg   0.973407  0.973034  0.973020\n",
              "1           SVM   0.980024  0.979775  0.979734\n",
              "2       XGBoost   0.953341  0.952809  0.952727\n",
              "3  DecisionTree   0.842460  0.842697  0.841384\n",
              "4     RanForest   0.953342  0.952809  0.952749"
            ],
            "text/html": [
              "\n",
              "  <div id=\"df-404c05fb-1c26-47b2-a7a2-7d8d73b4f043\" class=\"colab-df-container\">\n",
              "    <div>\n",
              "<style scoped>\n",
              "    .dataframe tbody tr th:only-of-type {\n",
              "        vertical-align: middle;\n",
              "    }\n",
              "\n",
              "    .dataframe tbody tr th {\n",
              "        vertical-align: top;\n",
              "    }\n",
              "\n",
              "    .dataframe thead th {\n",
              "        text-align: right;\n",
              "    }\n",
              "</style>\n",
              "<table border=\"1\" class=\"dataframe\">\n",
              "  <thead>\n",
              "    <tr style=\"text-align: right;\">\n",
              "      <th></th>\n",
              "      <th>Model</th>\n",
              "      <th>precision</th>\n",
              "      <th>recall</th>\n",
              "      <th>f1-score</th>\n",
              "    </tr>\n",
              "  </thead>\n",
              "  <tbody>\n",
              "    <tr>\n",
              "      <th>0</th>\n",
              "      <td>LogReg</td>\n",
              "      <td>0.973407</td>\n",
              "      <td>0.973034</td>\n",
              "      <td>0.973020</td>\n",
              "    </tr>\n",
              "    <tr>\n",
              "      <th>1</th>\n",
              "      <td>SVM</td>\n",
              "      <td>0.980024</td>\n",
              "      <td>0.979775</td>\n",
              "      <td>0.979734</td>\n",
              "    </tr>\n",
              "    <tr>\n",
              "      <th>2</th>\n",
              "      <td>XGBoost</td>\n",
              "      <td>0.953341</td>\n",
              "      <td>0.952809</td>\n",
              "      <td>0.952727</td>\n",
              "    </tr>\n",
              "    <tr>\n",
              "      <th>3</th>\n",
              "      <td>DecisionTree</td>\n",
              "      <td>0.842460</td>\n",
              "      <td>0.842697</td>\n",
              "      <td>0.841384</td>\n",
              "    </tr>\n",
              "    <tr>\n",
              "      <th>4</th>\n",
              "      <td>RanForest</td>\n",
              "      <td>0.953342</td>\n",
              "      <td>0.952809</td>\n",
              "      <td>0.952749</td>\n",
              "    </tr>\n",
              "  </tbody>\n",
              "</table>\n",
              "</div>\n",
              "    <div class=\"colab-df-buttons\">\n",
              "\n",
              "  <div class=\"colab-df-container\">\n",
              "    <button class=\"colab-df-convert\" onclick=\"convertToInteractive('df-404c05fb-1c26-47b2-a7a2-7d8d73b4f043')\"\n",
              "            title=\"Convert this dataframe to an interactive table.\"\n",
              "            style=\"display:none;\">\n",
              "\n",
              "  <svg xmlns=\"http://www.w3.org/2000/svg\" height=\"24px\" viewBox=\"0 -960 960 960\">\n",
              "    <path d=\"M120-120v-720h720v720H120Zm60-500h600v-160H180v160Zm220 220h160v-160H400v160Zm0 220h160v-160H400v160ZM180-400h160v-160H180v160Zm440 0h160v-160H620v160ZM180-180h160v-160H180v160Zm440 0h160v-160H620v160Z\"/>\n",
              "  </svg>\n",
              "    </button>\n",
              "\n",
              "  <style>\n",
              "    .colab-df-container {\n",
              "      display:flex;\n",
              "      gap: 12px;\n",
              "    }\n",
              "\n",
              "    .colab-df-convert {\n",
              "      background-color: #E8F0FE;\n",
              "      border: none;\n",
              "      border-radius: 50%;\n",
              "      cursor: pointer;\n",
              "      display: none;\n",
              "      fill: #1967D2;\n",
              "      height: 32px;\n",
              "      padding: 0 0 0 0;\n",
              "      width: 32px;\n",
              "    }\n",
              "\n",
              "    .colab-df-convert:hover {\n",
              "      background-color: #E2EBFA;\n",
              "      box-shadow: 0px 1px 2px rgba(60, 64, 67, 0.3), 0px 1px 3px 1px rgba(60, 64, 67, 0.15);\n",
              "      fill: #174EA6;\n",
              "    }\n",
              "\n",
              "    .colab-df-buttons div {\n",
              "      margin-bottom: 4px;\n",
              "    }\n",
              "\n",
              "    [theme=dark] .colab-df-convert {\n",
              "      background-color: #3B4455;\n",
              "      fill: #D2E3FC;\n",
              "    }\n",
              "\n",
              "    [theme=dark] .colab-df-convert:hover {\n",
              "      background-color: #434B5C;\n",
              "      box-shadow: 0px 1px 3px 1px rgba(0, 0, 0, 0.15);\n",
              "      filter: drop-shadow(0px 1px 2px rgba(0, 0, 0, 0.3));\n",
              "      fill: #FFFFFF;\n",
              "    }\n",
              "  </style>\n",
              "\n",
              "    <script>\n",
              "      const buttonEl =\n",
              "        document.querySelector('#df-404c05fb-1c26-47b2-a7a2-7d8d73b4f043 button.colab-df-convert');\n",
              "      buttonEl.style.display =\n",
              "        google.colab.kernel.accessAllowed ? 'block' : 'none';\n",
              "\n",
              "      async function convertToInteractive(key) {\n",
              "        const element = document.querySelector('#df-404c05fb-1c26-47b2-a7a2-7d8d73b4f043');\n",
              "        const dataTable =\n",
              "          await google.colab.kernel.invokeFunction('convertToInteractive',\n",
              "                                                    [key], {});\n",
              "        if (!dataTable) return;\n",
              "\n",
              "        const docLinkHtml = 'Like what you see? Visit the ' +\n",
              "          '<a target=\"_blank\" href=https://colab.research.google.com/notebooks/data_table.ipynb>data table notebook</a>'\n",
              "          + ' to learn more about interactive tables.';\n",
              "        element.innerHTML = '';\n",
              "        dataTable['output_type'] = 'display_data';\n",
              "        await google.colab.output.renderOutput(dataTable, element);\n",
              "        const docLink = document.createElement('div');\n",
              "        docLink.innerHTML = docLinkHtml;\n",
              "        element.appendChild(docLink);\n",
              "      }\n",
              "    </script>\n",
              "  </div>\n",
              "\n",
              "\n",
              "<div id=\"df-9e0ff9d9-c630-4535-89f3-eb49ccaf2356\">\n",
              "  <button class=\"colab-df-quickchart\" onclick=\"quickchart('df-9e0ff9d9-c630-4535-89f3-eb49ccaf2356')\"\n",
              "            title=\"Suggest charts\"\n",
              "            style=\"display:none;\">\n",
              "\n",
              "<svg xmlns=\"http://www.w3.org/2000/svg\" height=\"24px\"viewBox=\"0 0 24 24\"\n",
              "     width=\"24px\">\n",
              "    <g>\n",
              "        <path d=\"M19 3H5c-1.1 0-2 .9-2 2v14c0 1.1.9 2 2 2h14c1.1 0 2-.9 2-2V5c0-1.1-.9-2-2-2zM9 17H7v-7h2v7zm4 0h-2V7h2v10zm4 0h-2v-4h2v4z\"/>\n",
              "    </g>\n",
              "</svg>\n",
              "  </button>\n",
              "\n",
              "<style>\n",
              "  .colab-df-quickchart {\n",
              "      --bg-color: #E8F0FE;\n",
              "      --fill-color: #1967D2;\n",
              "      --hover-bg-color: #E2EBFA;\n",
              "      --hover-fill-color: #174EA6;\n",
              "      --disabled-fill-color: #AAA;\n",
              "      --disabled-bg-color: #DDD;\n",
              "  }\n",
              "\n",
              "  [theme=dark] .colab-df-quickchart {\n",
              "      --bg-color: #3B4455;\n",
              "      --fill-color: #D2E3FC;\n",
              "      --hover-bg-color: #434B5C;\n",
              "      --hover-fill-color: #FFFFFF;\n",
              "      --disabled-bg-color: #3B4455;\n",
              "      --disabled-fill-color: #666;\n",
              "  }\n",
              "\n",
              "  .colab-df-quickchart {\n",
              "    background-color: var(--bg-color);\n",
              "    border: none;\n",
              "    border-radius: 50%;\n",
              "    cursor: pointer;\n",
              "    display: none;\n",
              "    fill: var(--fill-color);\n",
              "    height: 32px;\n",
              "    padding: 0;\n",
              "    width: 32px;\n",
              "  }\n",
              "\n",
              "  .colab-df-quickchart:hover {\n",
              "    background-color: var(--hover-bg-color);\n",
              "    box-shadow: 0 1px 2px rgba(60, 64, 67, 0.3), 0 1px 3px 1px rgba(60, 64, 67, 0.15);\n",
              "    fill: var(--button-hover-fill-color);\n",
              "  }\n",
              "\n",
              "  .colab-df-quickchart-complete:disabled,\n",
              "  .colab-df-quickchart-complete:disabled:hover {\n",
              "    background-color: var(--disabled-bg-color);\n",
              "    fill: var(--disabled-fill-color);\n",
              "    box-shadow: none;\n",
              "  }\n",
              "\n",
              "  .colab-df-spinner {\n",
              "    border: 2px solid var(--fill-color);\n",
              "    border-color: transparent;\n",
              "    border-bottom-color: var(--fill-color);\n",
              "    animation:\n",
              "      spin 1s steps(1) infinite;\n",
              "  }\n",
              "\n",
              "  @keyframes spin {\n",
              "    0% {\n",
              "      border-color: transparent;\n",
              "      border-bottom-color: var(--fill-color);\n",
              "      border-left-color: var(--fill-color);\n",
              "    }\n",
              "    20% {\n",
              "      border-color: transparent;\n",
              "      border-left-color: var(--fill-color);\n",
              "      border-top-color: var(--fill-color);\n",
              "    }\n",
              "    30% {\n",
              "      border-color: transparent;\n",
              "      border-left-color: var(--fill-color);\n",
              "      border-top-color: var(--fill-color);\n",
              "      border-right-color: var(--fill-color);\n",
              "    }\n",
              "    40% {\n",
              "      border-color: transparent;\n",
              "      border-right-color: var(--fill-color);\n",
              "      border-top-color: var(--fill-color);\n",
              "    }\n",
              "    60% {\n",
              "      border-color: transparent;\n",
              "      border-right-color: var(--fill-color);\n",
              "    }\n",
              "    80% {\n",
              "      border-color: transparent;\n",
              "      border-right-color: var(--fill-color);\n",
              "      border-bottom-color: var(--fill-color);\n",
              "    }\n",
              "    90% {\n",
              "      border-color: transparent;\n",
              "      border-bottom-color: var(--fill-color);\n",
              "    }\n",
              "  }\n",
              "</style>\n",
              "\n",
              "  <script>\n",
              "    async function quickchart(key) {\n",
              "      const quickchartButtonEl =\n",
              "        document.querySelector('#' + key + ' button');\n",
              "      quickchartButtonEl.disabled = true;  // To prevent multiple clicks.\n",
              "      quickchartButtonEl.classList.add('colab-df-spinner');\n",
              "      try {\n",
              "        const charts = await google.colab.kernel.invokeFunction(\n",
              "            'suggestCharts', [key], {});\n",
              "      } catch (error) {\n",
              "        console.error('Error during call to suggestCharts:', error);\n",
              "      }\n",
              "      quickchartButtonEl.classList.remove('colab-df-spinner');\n",
              "      quickchartButtonEl.classList.add('colab-df-quickchart-complete');\n",
              "    }\n",
              "    (() => {\n",
              "      let quickchartButtonEl =\n",
              "        document.querySelector('#df-9e0ff9d9-c630-4535-89f3-eb49ccaf2356 button');\n",
              "      quickchartButtonEl.style.display =\n",
              "        google.colab.kernel.accessAllowed ? 'block' : 'none';\n",
              "    })();\n",
              "  </script>\n",
              "</div>\n",
              "    </div>\n",
              "  </div>\n"
            ]
          },
          "metadata": {},
          "execution_count": 26
        }
      ]
    },
    {
      "cell_type": "markdown",
      "source": [
        "## Detailed reports of classification"
      ],
      "metadata": {
        "id": "bLycS99Ecblq"
      }
    },
    {
      "cell_type": "markdown",
      "source": [
        "### Logistic Regression"
      ],
      "metadata": {
        "id": "ZM5uz5xsO2Ni"
      }
    },
    {
      "cell_type": "code",
      "source": [
        "evaluation(y_test_encoded, predictions_dict.get('LogReg'), trained_models_dict.get('LogReg'))"
      ],
      "metadata": {
        "colab": {
          "base_uri": "https://localhost:8080/",
          "height": 649
        },
        "id": "XNVp9HwaW9YB",
        "outputId": "3b31296f-eba9-453e-e5f1-ea215c962ab5"
      },
      "execution_count": 27,
      "outputs": [
        {
          "output_type": "stream",
          "name": "stdout",
          "text": [
            "Classification Report:\n",
            "               precision    recall  f1-score   support\n",
            "\n",
            "           0       0.97      0.98      0.98       113\n",
            "           1       0.99      0.94      0.96        78\n",
            "           2       0.93      0.97      0.95        69\n",
            "           3       0.99      1.00      1.00       101\n",
            "           4       0.98      0.96      0.97        84\n",
            "\n",
            "    accuracy                           0.97       445\n",
            "   macro avg       0.97      0.97      0.97       445\n",
            "weighted avg       0.97      0.97      0.97       445\n",
            "\n"
          ]
        },
        {
          "output_type": "display_data",
          "data": {
            "text/plain": [
              "<Figure size 500x400 with 2 Axes>"
            ],
            "image/png": "[encoded data removed]"
          },
          "metadata": {}
        }
      ]
    },
    {
      "cell_type": "markdown",
      "source": [
        "### Decision Tree Classifier\n",
        "Decision Trees are a non-parametric supervised learning method used for classification and regression. The goal is to create a model that predicts the value of a target variable by learning simple decision rules inferred from the data features."
      ],
      "metadata": {
        "id": "g4xWRvG8Req6"
      }
    },
    {
      "cell_type": "code",
      "source": [
        "evaluation(y_test_encoded, predictions_dict.get('DecisionTree'), trained_models_dict.get('DecisionTree'))"
      ],
      "metadata": {
        "colab": {
          "base_uri": "https://localhost:8080/",
          "height": 649
        },
        "id": "lRbI3bXJXpj2",
        "outputId": "8af793f6-9a33-45ba-c385-ce504a518e08"
      },
      "execution_count": 28,
      "outputs": [
        {
          "output_type": "stream",
          "name": "stdout",
          "text": [
            "Classification Report:\n",
            "               precision    recall  f1-score   support\n",
            "\n",
            "           0       0.82      0.76      0.79       113\n",
            "           1       0.74      0.76      0.75        78\n",
            "           2       0.90      0.81      0.85        69\n",
            "           3       0.89      0.98      0.93       101\n",
            "           4       0.86      0.89      0.88        84\n",
            "\n",
            "    accuracy                           0.84       445\n",
            "   macro avg       0.84      0.84      0.84       445\n",
            "weighted avg       0.84      0.84      0.84       445\n",
            "\n"
          ]
        },
        {
          "output_type": "display_data",
          "data": {
            "text/plain": [
              "<Figure size 500x400 with 2 Axes>"
            ],
            "image/png": "[encoded data removed]"
          },
          "metadata": {}
        }
      ]
    },
    {
      "cell_type": "markdown",
      "source": [
        "### Random Forest Classifier\n",
        "A random forest is a meta estimator that fits a number of decision tree classifiers on various sub-samples of the dataset and uses averaging to improve the predictive accuracy and control over-fitting."
      ],
      "metadata": {
        "id": "4OivsKaDRXgm"
      }
    },
    {
      "cell_type": "code",
      "source": [
        "evaluation(y_test_encoded, predictions_dict.get('RanForest'), trained_models_dict.get('RanForest'))"
      ],
      "metadata": {
        "colab": {
          "base_uri": "https://localhost:8080/",
          "height": 649
        },
        "id": "ae5F49phXphQ",
        "outputId": "ee81e0a0-69a0-4f33-ccaf-667305ab73d5"
      },
      "execution_count": 29,
      "outputs": [
        {
          "output_type": "stream",
          "name": "stdout",
          "text": [
            "Classification Report:\n",
            "               precision    recall  f1-score   support\n",
            "\n",
            "           0       0.94      0.95      0.94       113\n",
            "           1       1.00      0.94      0.97        78\n",
            "           2       0.94      0.94      0.94        69\n",
            "           3       0.95      1.00      0.98       101\n",
            "           4       0.94      0.93      0.93        84\n",
            "\n",
            "    accuracy                           0.95       445\n",
            "   macro avg       0.95      0.95      0.95       445\n",
            "weighted avg       0.95      0.95      0.95       445\n",
            "\n"
          ]
        },
        {
          "output_type": "display_data",
          "data": {
            "text/plain": [
              "<Figure size 500x400 with 2 Axes>"
            ],
            "image/png": "[encoded data removed]"
          },
          "metadata": {}
        }
      ]
    },
    {
      "cell_type": "markdown",
      "source": [
        "### SVM Classifier"
      ],
      "metadata": {
        "id": "qfaztBGpa66f"
      }
    },
    {
      "cell_type": "code",
      "source": [
        "evaluation(y_test_encoded, predictions_dict.get('SVM'), trained_models_dict.get('SVM'))"
      ],
      "metadata": {
        "colab": {
          "base_uri": "https://localhost:8080/",
          "height": 649
        },
        "id": "63z1yF1tXpeZ",
        "outputId": "01795f13-9dfe-46a3-9801-a2447178bb4d"
      },
      "execution_count": 30,
      "outputs": [
        {
          "output_type": "stream",
          "name": "stdout",
          "text": [
            "Classification Report:\n",
            "               precision    recall  f1-score   support\n",
            "\n",
            "           0       0.97      0.99      0.98       113\n",
            "           1       0.99      0.94      0.96        78\n",
            "           2       0.94      0.97      0.96        69\n",
            "           3       1.00      1.00      1.00       101\n",
            "           4       0.99      0.99      0.99        84\n",
            "\n",
            "    accuracy                           0.98       445\n",
            "   macro avg       0.98      0.98      0.98       445\n",
            "weighted avg       0.98      0.98      0.98       445\n",
            "\n"
          ]
        },
        {
          "output_type": "display_data",
          "data": {
            "text/plain": [
              "<Figure size 500x400 with 2 Axes>"
            ],
            "image/png": "[encoded data removed]"
          },
          "metadata": {}
        }
      ]
    },
    {
      "cell_type": "markdown",
      "source": [
        "### XGBoost Classifier"
      ],
      "metadata": {
        "id": "1yr9CSana5zb"
      }
    },
    {
      "cell_type": "code",
      "source": [
        "evaluation(y_test_encoded, predictions_dict.get('XGBoost'), trained_models_dict.get('XGBoost'))"
      ],
      "metadata": {
        "colab": {
          "base_uri": "https://localhost:8080/",
          "height": 649
        },
        "id": "jJQkJ5VtXpax",
        "outputId": "e41fbb6a-f1a6-4c5d-94ce-ee518a611500"
      },
      "execution_count": 31,
      "outputs": [
        {
          "output_type": "stream",
          "name": "stdout",
          "text": [
            "Classification Report:\n",
            "               precision    recall  f1-score   support\n",
            "\n",
            "           0       0.97      0.92      0.95       113\n",
            "           1       0.94      0.92      0.93        78\n",
            "           2       0.94      0.96      0.95        69\n",
            "           3       0.98      0.99      0.99       101\n",
            "           4       0.92      0.98      0.95        84\n",
            "\n",
            "    accuracy                           0.95       445\n",
            "   macro avg       0.95      0.95      0.95       445\n",
            "weighted avg       0.95      0.95      0.95       445\n",
            "\n"
          ]
        },
        {
          "output_type": "display_data",
          "data": {
            "text/plain": [
              "<Figure size 500x400 with 2 Axes>"
            ],
            "image/png": "[encoded data removed]"
          },
          "metadata": {}
        }
      ]
    },
    {
      "cell_type": "markdown",
      "source": [
        "# Classification based on Word2Vec"
      ],
      "metadata": {
        "id": "nIZyntU0dC_1"
      }
    },
    {
      "cell_type": "code",
      "source": [
        "results_W2V = pd.DataFrame()\n",
        "trained_models_dict_W2V = {}\n",
        "predictions_dict_W2V = {}\n",
        "\n",
        "# Evaluate each model and store the results in the DataFrame\n",
        "for model_name, model in models:\n",
        "    trained_model, y_pred, metrics = modeling(model, X_train_aggregated, y_train_encoded, X_test_aggregated, y_test_encoded)\n",
        "    results_W2V = results_W2V.append({'Model': model_name, **metrics}, ignore_index=True)\n",
        "\n",
        "    # Store the results in dictionaries\n",
        "    trained_models_dict_W2V[model_name] = trained_model\n",
        "    predictions_dict_W2V[model_name] = y_pred\n"
      ],
      "metadata": {
        "id": "TMRlph-vc-n3"
      },
      "execution_count": 32,
      "outputs": []
    },
    {
      "cell_type": "code",
      "source": [
        "results_W2V"
      ],
      "metadata": {
        "colab": {
          "base_uri": "https://localhost:8080/",
          "height": 206
        },
        "id": "CY6J_DU-dsT1",
        "outputId": "a7fa136b-0442-44ed-ed76-aaa474334a58"
      },
      "execution_count": 33,
      "outputs": [
        {
          "output_type": "execute_result",
          "data": {
            "text/plain": [
              "          Model  precision    recall  f1-score\n",
              "0        LogReg   0.890394  0.887640  0.887059\n",
              "1           SVM   0.876839  0.874157  0.873003\n",
              "2       XGBoost   0.919958  0.919101  0.918474\n",
              "3  DecisionTree   0.890841  0.883146  0.884685\n",
              "4     RanForest   0.899379  0.898876  0.897797"
            ],
            "text/html": [
              "\n",
              "  <div id=\"df-0d3dca15-3b1d-4bcc-9f50-b16cd4837d70\" class=\"colab-df-container\">\n",
              "    <div>\n",
              "<style scoped>\n",
              "    .dataframe tbody tr th:only-of-type {\n",
              "        vertical-align: middle;\n",
              "    }\n",
              "\n",
              "    .dataframe tbody tr th {\n",
              "        vertical-align: top;\n",
              "    }\n",
              "\n",
              "    .dataframe thead th {\n",
              "        text-align: right;\n",
              "    }\n",
              "</style>\n",
              "<table border=\"1\" class=\"dataframe\">\n",
              "  <thead>\n",
              "    <tr style=\"text-align: right;\">\n",
              "      <th></th>\n",
              "      <th>Model</th>\n",
              "      <th>precision</th>\n",
              "      <th>recall</th>\n",
              "      <th>f1-score</th>\n",
              "    </tr>\n",
              "  </thead>\n",
              "  <tbody>\n",
              "    <tr>\n",
              "      <th>0</th>\n",
              "      <td>LogReg</td>\n",
              "      <td>0.890394</td>\n",
              "      <td>0.887640</td>\n",
              "      <td>0.887059</td>\n",
              "    </tr>\n",
              "    <tr>\n",
              "      <th>1</th>\n",
              "      <td>SVM</td>\n",
              "      <td>0.876839</td>\n",
              "      <td>0.874157</td>\n",
              "      <td>0.873003</td>\n",
              "    </tr>\n",
              "    <tr>\n",
              "      <th>2</th>\n",
              "      <td>XGBoost</td>\n",
              "      <td>0.919958</td>\n",
              "      <td>0.919101</td>\n",
              "      <td>0.918474</td>\n",
              "    </tr>\n",
              "    <tr>\n",
              "      <th>3</th>\n",
              "      <td>DecisionTree</td>\n",
              "      <td>0.890841</td>\n",
              "      <td>0.883146</td>\n",
              "      <td>0.884685</td>\n",
              "    </tr>\n",
              "    <tr>\n",
              "      <th>4</th>\n",
              "      <td>RanForest</td>\n",
              "      <td>0.899379</td>\n",
              "      <td>0.898876</td>\n",
              "      <td>0.897797</td>\n",
              "    </tr>\n",
              "  </tbody>\n",
              "</table>\n",
              "</div>\n",
              "    <div class=\"colab-df-buttons\">\n",
              "\n",
              "  <div class=\"colab-df-container\">\n",
              "    <button class=\"colab-df-convert\" onclick=\"convertToInteractive('df-0d3dca15-3b1d-4bcc-9f50-b16cd4837d70')\"\n",
              "            title=\"Convert this dataframe to an interactive table.\"\n",
              "            style=\"display:none;\">\n",
              "\n",
              "  <svg xmlns=\"http://www.w3.org/2000/svg\" height=\"24px\" viewBox=\"0 -960 960 960\">\n",
              "    <path d=\"M120-120v-720h720v720H120Zm60-500h600v-160H180v160Zm220 220h160v-160H400v160Zm0 220h160v-160H400v160ZM180-400h160v-160H180v160Zm440 0h160v-160H620v160ZM180-180h160v-160H180v160Zm440 0h160v-160H620v160Z\"/>\n",
              "  </svg>\n",
              "    </button>\n",
              "\n",
              "  <style>\n",
              "    .colab-df-container {\n",
              "      display:flex;\n",
              "      gap: 12px;\n",
              "    }\n",
              "\n",
              "    .colab-df-convert {\n",
              "      background-color: #E8F0FE;\n",
              "      border: none;\n",
              "      border-radius: 50%;\n",
              "      cursor: pointer;\n",
              "      display: none;\n",
              "      fill: #1967D2;\n",
              "      height: 32px;\n",
              "      padding: 0 0 0 0;\n",
              "      width: 32px;\n",
              "    }\n",
              "\n",
              "    .colab-df-convert:hover {\n",
              "      background-color: #E2EBFA;\n",
              "      box-shadow: 0px 1px 2px rgba(60, 64, 67, 0.3), 0px 1px 3px 1px rgba(60, 64, 67, 0.15);\n",
              "      fill: #174EA6;\n",
              "    }\n",
              "\n",
              "    .colab-df-buttons div {\n",
              "      margin-bottom: 4px;\n",
              "    }\n",
              "\n",
              "    [theme=dark] .colab-df-convert {\n",
              "      background-color: #3B4455;\n",
              "      fill: #D2E3FC;\n",
              "    }\n",
              "\n",
              "    [theme=dark] .colab-df-convert:hover {\n",
              "      background-color: #434B5C;\n",
              "      box-shadow: 0px 1px 3px 1px rgba(0, 0, 0, 0.15);\n",
              "      filter: drop-shadow(0px 1px 2px rgba(0, 0, 0, 0.3));\n",
              "      fill: #FFFFFF;\n",
              "    }\n",
              "  </style>\n",
              "\n",
              "    <script>\n",
              "      const buttonEl =\n",
              "        document.querySelector('#df-0d3dca15-3b1d-4bcc-9f50-b16cd4837d70 button.colab-df-convert');\n",
              "      buttonEl.style.display =\n",
              "        google.colab.kernel.accessAllowed ? 'block' : 'none';\n",
              "\n",
              "      async function convertToInteractive(key) {\n",
              "        const element = document.querySelector('#df-0d3dca15-3b1d-4bcc-9f50-b16cd4837d70');\n",
              "        const dataTable =\n",
              "          await google.colab.kernel.invokeFunction('convertToInteractive',\n",
              "                                                    [key], {});\n",
              "        if (!dataTable) return;\n",
              "\n",
              "        const docLinkHtml = 'Like what you see? Visit the ' +\n",
              "          '<a target=\"_blank\" href=https://colab.research.google.com/notebooks/data_table.ipynb>data table notebook</a>'\n",
              "          + ' to learn more about interactive tables.';\n",
              "        element.innerHTML = '';\n",
              "        dataTable['output_type'] = 'display_data';\n",
              "        await google.colab.output.renderOutput(dataTable, element);\n",
              "        const docLink = document.createElement('div');\n",
              "        docLink.innerHTML = docLinkHtml;\n",
              "        element.appendChild(docLink);\n",
              "      }\n",
              "    </script>\n",
              "  </div>\n",
              "\n",
              "\n",
              "<div id=\"df-8dc910f0-3919-4fac-84e4-f019c2d4c62d\">\n",
              "  <button class=\"colab-df-quickchart\" onclick=\"quickchart('df-8dc910f0-3919-4fac-84e4-f019c2d4c62d')\"\n",
              "            title=\"Suggest charts\"\n",
              "            style=\"display:none;\">\n",
              "\n",
              "<svg xmlns=\"http://www.w3.org/2000/svg\" height=\"24px\"viewBox=\"0 0 24 24\"\n",
              "     width=\"24px\">\n",
              "    <g>\n",
              "        <path d=\"M19 3H5c-1.1 0-2 .9-2 2v14c0 1.1.9 2 2 2h14c1.1 0 2-.9 2-2V5c0-1.1-.9-2-2-2zM9 17H7v-7h2v7zm4 0h-2V7h2v10zm4 0h-2v-4h2v4z\"/>\n",
              "    </g>\n",
              "</svg>\n",
              "  </button>\n",
              "\n",
              "<style>\n",
              "  .colab-df-quickchart {\n",
              "      --bg-color: #E8F0FE;\n",
              "      --fill-color: #1967D2;\n",
              "      --hover-bg-color: #E2EBFA;\n",
              "      --hover-fill-color: #174EA6;\n",
              "      --disabled-fill-color: #AAA;\n",
              "      --disabled-bg-color: #DDD;\n",
              "  }\n",
              "\n",
              "  [theme=dark] .colab-df-quickchart {\n",
              "      --bg-color: #3B4455;\n",
              "      --fill-color: #D2E3FC;\n",
              "      --hover-bg-color: #434B5C;\n",
              "      --hover-fill-color: #FFFFFF;\n",
              "      --disabled-bg-color: #3B4455;\n",
              "      --disabled-fill-color: #666;\n",
              "  }\n",
              "\n",
              "  .colab-df-quickchart {\n",
              "    background-color: var(--bg-color);\n",
              "    border: none;\n",
              "    border-radius: 50%;\n",
              "    cursor: pointer;\n",
              "    display: none;\n",
              "    fill: var(--fill-color);\n",
              "    height: 32px;\n",
              "    padding: 0;\n",
              "    width: 32px;\n",
              "  }\n",
              "\n",
              "  .colab-df-quickchart:hover {\n",
              "    background-color: var(--hover-bg-color);\n",
              "    box-shadow: 0 1px 2px rgba(60, 64, 67, 0.3), 0 1px 3px 1px rgba(60, 64, 67, 0.15);\n",
              "    fill: var(--button-hover-fill-color);\n",
              "  }\n",
              "\n",
              "  .colab-df-quickchart-complete:disabled,\n",
              "  .colab-df-quickchart-complete:disabled:hover {\n",
              "    background-color: var(--disabled-bg-color);\n",
              "    fill: var(--disabled-fill-color);\n",
              "    box-shadow: none;\n",
              "  }\n",
              "\n",
              "  .colab-df-spinner {\n",
              "    border: 2px solid var(--fill-color);\n",
              "    border-color: transparent;\n",
              "    border-bottom-color: var(--fill-color);\n",
              "    animation:\n",
              "      spin 1s steps(1) infinite;\n",
              "  }\n",
              "\n",
              "  @keyframes spin {\n",
              "    0% {\n",
              "      border-color: transparent;\n",
              "      border-bottom-color: var(--fill-color);\n",
              "      border-left-color: var(--fill-color);\n",
              "    }\n",
              "    20% {\n",
              "      border-color: transparent;\n",
              "      border-left-color: var(--fill-color);\n",
              "      border-top-color: var(--fill-color);\n",
              "    }\n",
              "    30% {\n",
              "      border-color: transparent;\n",
              "      border-left-color: var(--fill-color);\n",
              "      border-top-color: var(--fill-color);\n",
              "      border-right-color: var(--fill-color);\n",
              "    }\n",
              "    40% {\n",
              "      border-color: transparent;\n",
              "      border-right-color: var(--fill-color);\n",
              "      border-top-color: var(--fill-color);\n",
              "    }\n",
              "    60% {\n",
              "      border-color: transparent;\n",
              "      border-right-color: var(--fill-color);\n",
              "    }\n",
              "    80% {\n",
              "      border-color: transparent;\n",
              "      border-right-color: var(--fill-color);\n",
              "      border-bottom-color: var(--fill-color);\n",
              "    }\n",
              "    90% {\n",
              "      border-color: transparent;\n",
              "      border-bottom-color: var(--fill-color);\n",
              "    }\n",
              "  }\n",
              "</style>\n",
              "\n",
              "  <script>\n",
              "    async function quickchart(key) {\n",
              "      const quickchartButtonEl =\n",
              "        document.querySelector('#' + key + ' button');\n",
              "      quickchartButtonEl.disabled = true;  // To prevent multiple clicks.\n",
              "      quickchartButtonEl.classList.add('colab-df-spinner');\n",
              "      try {\n",
              "        const charts = await google.colab.kernel.invokeFunction(\n",
              "            'suggestCharts', [key], {});\n",
              "      } catch (error) {\n",
              "        console.error('Error during call to suggestCharts:', error);\n",
              "      }\n",
              "      quickchartButtonEl.classList.remove('colab-df-spinner');\n",
              "      quickchartButtonEl.classList.add('colab-df-quickchart-complete');\n",
              "    }\n",
              "    (() => {\n",
              "      let quickchartButtonEl =\n",
              "        document.querySelector('#df-8dc910f0-3919-4fac-84e4-f019c2d4c62d button');\n",
              "      quickchartButtonEl.style.display =\n",
              "        google.colab.kernel.accessAllowed ? 'block' : 'none';\n",
              "    })();\n",
              "  </script>\n",
              "</div>\n",
              "    </div>\n",
              "  </div>\n"
            ]
          },
          "metadata": {},
          "execution_count": 33
        }
      ]
    },
    {
      "cell_type": "markdown",
      "source": [
        "## Detailed reports of classification"
      ],
      "metadata": {
        "id": "mNJ47sR_eh-J"
      }
    },
    {
      "cell_type": "markdown",
      "source": [
        "### Logistic Regression"
      ],
      "metadata": {
        "id": "NwFC3C_fRiqM"
      }
    },
    {
      "cell_type": "code",
      "source": [
        "evaluation(y_test_encoded, predictions_dict_W2V.get('LogReg'), trained_models_dict_W2V.get('LogReg'))"
      ],
      "metadata": {
        "colab": {
          "base_uri": "https://localhost:8080/",
          "height": 649
        },
        "id": "qns64y6cc-Ku",
        "outputId": "8ed3be9e-d7b7-4293-9879-8f8a1f9afbc5"
      },
      "execution_count": 34,
      "outputs": [
        {
          "output_type": "stream",
          "name": "stdout",
          "text": [
            "Classification Report:\n",
            "               precision    recall  f1-score   support\n",
            "\n",
            "           0       0.88      0.90      0.89       113\n",
            "           1       0.94      0.78      0.85        78\n",
            "           2       0.81      0.90      0.85        69\n",
            "           3       0.92      0.97      0.94       101\n",
            "           4       0.90      0.86      0.88        84\n",
            "\n",
            "    accuracy                           0.89       445\n",
            "   macro avg       0.89      0.88      0.88       445\n",
            "weighted avg       0.89      0.89      0.89       445\n",
            "\n"
          ]
        },
        {
          "output_type": "display_data",
          "data": {
            "text/plain": [
              "<Figure size 500x400 with 2 Axes>"
            ],
            "image/png": "[encoded data removed]"
          },
          "metadata": {}
        }
      ]
    },
    {
      "cell_type": "markdown",
      "source": [
        "### Decision Tree Classifier\n",
        "Decision Trees are a non-parametric supervised learning method used for classification and regression. The goal is to create a model that predicts the value of a target variable by learning simple decision rules inferred from the data features."
      ],
      "metadata": {
        "id": "7CiktIAJSFpm"
      }
    },
    {
      "cell_type": "code",
      "source": [
        "evaluation(y_test_encoded, predictions_dict_W2V.get('DecisionTree'), trained_models_dict_W2V.get('DecisionTree'))"
      ],
      "metadata": {
        "colab": {
          "base_uri": "https://localhost:8080/",
          "height": 649
        },
        "outputId": "f28d3d1b-719c-4e6f-a3e1-b00d3769fbe9",
        "id": "UPMIzn4hd8Cb"
      },
      "execution_count": 35,
      "outputs": [
        {
          "output_type": "stream",
          "name": "stdout",
          "text": [
            "Classification Report:\n",
            "               precision    recall  f1-score   support\n",
            "\n",
            "           0       0.93      0.88      0.90       113\n",
            "           1       0.86      0.86      0.86        78\n",
            "           2       0.73      0.91      0.81        69\n",
            "           3       0.94      0.93      0.94       101\n",
            "           4       0.93      0.83      0.88        84\n",
            "\n",
            "    accuracy                           0.88       445\n",
            "   macro avg       0.88      0.88      0.88       445\n",
            "weighted avg       0.89      0.88      0.88       445\n",
            "\n"
          ]
        },
        {
          "output_type": "display_data",
          "data": {
            "text/plain": [
              "<Figure size 500x400 with 2 Axes>"
            ],
            "image/png": "[encoded data removed]"
          },
          "metadata": {}
        }
      ]
    },
    {
      "cell_type": "markdown",
      "source": [
        "### Random Forest Classifier\n",
        "A random forest is a meta estimator that fits a number of decision tree classifiers on various sub-samples of the dataset and uses averaging to improve the predictive accuracy and control over-fitting."
      ],
      "metadata": {
        "id": "CxF1Bl6pSerS"
      }
    },
    {
      "cell_type": "code",
      "source": [
        "evaluation(y_test_encoded, predictions_dict_W2V.get('RanForest'), trained_models_dict_W2V.get('RanForest'))"
      ],
      "metadata": {
        "colab": {
          "base_uri": "https://localhost:8080/",
          "height": 649
        },
        "outputId": "6f845cc0-07d3-4233-a202-ada3f1690a24",
        "id": "gRSXsU07d8Cc"
      },
      "execution_count": 36,
      "outputs": [
        {
          "output_type": "stream",
          "name": "stdout",
          "text": [
            "Classification Report:\n",
            "               precision    recall  f1-score   support\n",
            "\n",
            "           0       0.89      0.93      0.91       113\n",
            "           1       0.90      0.79      0.84        78\n",
            "           2       0.86      0.91      0.89        69\n",
            "           3       0.92      0.98      0.95       101\n",
            "           4       0.92      0.85      0.88        84\n",
            "\n",
            "    accuracy                           0.90       445\n",
            "   macro avg       0.90      0.89      0.89       445\n",
            "weighted avg       0.90      0.90      0.90       445\n",
            "\n"
          ]
        },
        {
          "output_type": "display_data",
          "data": {
            "text/plain": [
              "<Figure size 500x400 with 2 Axes>"
            ],
            "image/png": "[encoded data removed]"
          },
          "metadata": {}
        }
      ]
    },
    {
      "cell_type": "markdown",
      "source": [
        "### SVM"
      ],
      "metadata": {
        "id": "A2fEnUFIUmKN"
      }
    },
    {
      "cell_type": "code",
      "source": [
        "evaluation(y_test_encoded, predictions_dict_W2V.get('SVM'), trained_models_dict_W2V.get('SVM'))"
      ],
      "metadata": {
        "colab": {
          "base_uri": "https://localhost:8080/",
          "height": 649
        },
        "outputId": "db2b8804-5d00-462a-9de8-2abd634c8c4c",
        "id": "ErdaLhJ1d8Cc"
      },
      "execution_count": 37,
      "outputs": [
        {
          "output_type": "stream",
          "name": "stdout",
          "text": [
            "Classification Report:\n",
            "               precision    recall  f1-score   support\n",
            "\n",
            "           0       0.86      0.90      0.88       113\n",
            "           1       0.90      0.78      0.84        78\n",
            "           2       0.81      0.90      0.85        69\n",
            "           3       0.90      0.97      0.93       101\n",
            "           4       0.92      0.79      0.85        84\n",
            "\n",
            "    accuracy                           0.87       445\n",
            "   macro avg       0.88      0.87      0.87       445\n",
            "weighted avg       0.88      0.87      0.87       445\n",
            "\n"
          ]
        },
        {
          "output_type": "display_data",
          "data": {
            "text/plain": [
              "<Figure size 500x400 with 2 Axes>"
            ],
            "image/png": "[encoded data removed]"
          },
          "metadata": {}
        }
      ]
    },
    {
      "cell_type": "markdown",
      "source": [
        "### XGBoost Classifier"
      ],
      "metadata": {
        "id": "sTiVr4xpOHF4"
      }
    },
    {
      "cell_type": "code",
      "source": [
        "evaluation(y_test_encoded, predictions_dict_W2V.get('XGBoost'), trained_models_dict_W2V.get('XGBoost'))"
      ],
      "metadata": {
        "colab": {
          "base_uri": "https://localhost:8080/",
          "height": 649
        },
        "outputId": "812c85a3-768e-4189-ecc1-c6df57027d31",
        "id": "7cFZLUaVd8Cd"
      },
      "execution_count": 38,
      "outputs": [
        {
          "output_type": "stream",
          "name": "stdout",
          "text": [
            "Classification Report:\n",
            "               precision    recall  f1-score   support\n",
            "\n",
            "           0       0.90      0.96      0.93       113\n",
            "           1       0.93      0.83      0.88        78\n",
            "           2       0.88      0.93      0.90        69\n",
            "           3       0.95      0.98      0.97       101\n",
            "           4       0.94      0.87      0.90        84\n",
            "\n",
            "    accuracy                           0.92       445\n",
            "   macro avg       0.92      0.91      0.91       445\n",
            "weighted avg       0.92      0.92      0.92       445\n",
            "\n"
          ]
        },
        {
          "output_type": "display_data",
          "data": {
            "text/plain": [
              "<Figure size 500x400 with 2 Axes>"
            ],
            "image/png": "[encoded data removed]"
          },
          "metadata": {}
        }
      ]
    },
    {
      "cell_type": "markdown",
      "source": [
        "# Conclusion"
      ],
      "metadata": {
        "id": "-wVclh8Jf0uf"
      }
    },
    {
      "cell_type": "markdown",
      "source": [
        "For better comparison let's consider F1 score for both approaches."
      ],
      "metadata": {
        "id": "UOX6YZUQf36Y"
      }
    },
    {
      "cell_type": "code",
      "source": [
        "merged_df = pd.merge(results_tfidf[['Model', 'f1-score']], results_W2V[['Model', 'f1-score']], on='Model', suffixes=('_tfidf', '_w2v'))"
      ],
      "metadata": {
        "id": "rq3QYbDTfQqL"
      },
      "execution_count": 39,
      "outputs": []
    },
    {
      "cell_type": "code",
      "source": [
        "merged_df['f1-score_tfidf'] = merged_df['f1-score_tfidf'].round(3)\n",
        "merged_df['f1-score_w2v'] = merged_df['f1-score_w2v'].round(3)"
      ],
      "metadata": {
        "id": "UxYIvhOGfZKJ"
      },
      "execution_count": 41,
      "outputs": []
    },
    {
      "cell_type": "code",
      "source": [
        "merged_df"
      ],
      "metadata": {
        "colab": {
          "base_uri": "https://localhost:8080/",
          "height": 206
        },
        "id": "DCUWLGCp6OMJ",
        "outputId": "cb29b0d7-b672-4048-e6a1-5f987f17f67e"
      },
      "execution_count": 42,
      "outputs": [
        {
          "output_type": "execute_result",
          "data": {
            "text/plain": [
              "          Model  f1-score_tfidf  f1-score_w2v\n",
              "0        LogReg           0.973         0.887\n",
              "1           SVM           0.980         0.873\n",
              "2       XGBoost           0.953         0.918\n",
              "3  DecisionTree           0.841         0.885\n",
              "4     RanForest           0.953         0.898"
            ],
            "text/html": [
              "\n",
              "  <div id=\"df-74b04c16-6424-4c8e-a7a4-15083349eee8\" class=\"colab-df-container\">\n",
              "    <div>\n",
              "<style scoped>\n",
              "    .dataframe tbody tr th:only-of-type {\n",
              "        vertical-align: middle;\n",
              "    }\n",
              "\n",
              "    .dataframe tbody tr th {\n",
              "        vertical-align: top;\n",
              "    }\n",
              "\n",
              "    .dataframe thead th {\n",
              "        text-align: right;\n",
              "    }\n",
              "</style>\n",
              "<table border=\"1\" class=\"dataframe\">\n",
              "  <thead>\n",
              "    <tr style=\"text-align: right;\">\n",
              "      <th></th>\n",
              "      <th>Model</th>\n",
              "      <th>f1-score_tfidf</th>\n",
              "      <th>f1-score_w2v</th>\n",
              "    </tr>\n",
              "  </thead>\n",
              "  <tbody>\n",
              "    <tr>\n",
              "      <th>0</th>\n",
              "      <td>LogReg</td>\n",
              "      <td>0.973</td>\n",
              "      <td>0.887</td>\n",
              "    </tr>\n",
              "    <tr>\n",
              "      <th>1</th>\n",
              "      <td>SVM</td>\n",
              "      <td>0.980</td>\n",
              "      <td>0.873</td>\n",
              "    </tr>\n",
              "    <tr>\n",
              "      <th>2</th>\n",
              "      <td>XGBoost</td>\n",
              "      <td>0.953</td>\n",
              "      <td>0.918</td>\n",
              "    </tr>\n",
              "    <tr>\n",
              "      <th>3</th>\n",
              "      <td>DecisionTree</td>\n",
              "      <td>0.841</td>\n",
              "      <td>0.885</td>\n",
              "    </tr>\n",
              "    <tr>\n",
              "      <th>4</th>\n",
              "      <td>RanForest</td>\n",
              "      <td>0.953</td>\n",
              "      <td>0.898</td>\n",
              "    </tr>\n",
              "  </tbody>\n",
              "</table>\n",
              "</div>\n",
              "    <div class=\"colab-df-buttons\">\n",
              "\n",
              "  <div class=\"colab-df-container\">\n",
              "    <button class=\"colab-df-convert\" onclick=\"convertToInteractive('df-74b04c16-6424-4c8e-a7a4-15083349eee8')\"\n",
              "            title=\"Convert this dataframe to an interactive table.\"\n",
              "            style=\"display:none;\">\n",
              "\n",
              "  <svg xmlns=\"http://www.w3.org/2000/svg\" height=\"24px\" viewBox=\"0 -960 960 960\">\n",
              "    <path d=\"M120-120v-720h720v720H120Zm60-500h600v-160H180v160Zm220 220h160v-160H400v160Zm0 220h160v-160H400v160ZM180-400h160v-160H180v160Zm440 0h160v-160H620v160ZM180-180h160v-160H180v160Zm440 0h160v-160H620v160Z\"/>\n",
              "  </svg>\n",
              "    </button>\n",
              "\n",
              "  <style>\n",
              "    .colab-df-container {\n",
              "      display:flex;\n",
              "      gap: 12px;\n",
              "    }\n",
              "\n",
              "    .colab-df-convert {\n",
              "      background-color: #E8F0FE;\n",
              "      border: none;\n",
              "      border-radius: 50%;\n",
              "      cursor: pointer;\n",
              "      display: none;\n",
              "      fill: #1967D2;\n",
              "      height: 32px;\n",
              "      padding: 0 0 0 0;\n",
              "      width: 32px;\n",
              "    }\n",
              "\n",
              "    .colab-df-convert:hover {\n",
              "      background-color: #E2EBFA;\n",
              "      box-shadow: 0px 1px 2px rgba(60, 64, 67, 0.3), 0px 1px 3px 1px rgba(60, 64, 67, 0.15);\n",
              "      fill: #174EA6;\n",
              "    }\n",
              "\n",
              "    .colab-df-buttons div {\n",
              "      margin-bottom: 4px;\n",
              "    }\n",
              "\n",
              "    [theme=dark] .colab-df-convert {\n",
              "      background-color: #3B4455;\n",
              "      fill: #D2E3FC;\n",
              "    }\n",
              "\n",
              "    [theme=dark] .colab-df-convert:hover {\n",
              "      background-color: #434B5C;\n",
              "      box-shadow: 0px 1px 3px 1px rgba(0, 0, 0, 0.15);\n",
              "      filter: drop-shadow(0px 1px 2px rgba(0, 0, 0, 0.3));\n",
              "      fill: #FFFFFF;\n",
              "    }\n",
              "  </style>\n",
              "\n",
              "    <script>\n",
              "      const buttonEl =\n",
              "        document.querySelector('#df-74b04c16-6424-4c8e-a7a4-15083349eee8 button.colab-df-convert');\n",
              "      buttonEl.style.display =\n",
              "        google.colab.kernel.accessAllowed ? 'block' : 'none';\n",
              "\n",
              "      async function convertToInteractive(key) {\n",
              "        const element = document.querySelector('#df-74b04c16-6424-4c8e-a7a4-15083349eee8');\n",
              "        const dataTable =\n",
              "          await google.colab.kernel.invokeFunction('convertToInteractive',\n",
              "                                                    [key], {});\n",
              "        if (!dataTable) return;\n",
              "\n",
              "        const docLinkHtml = 'Like what you see? Visit the ' +\n",
              "          '<a target=\"_blank\" href=https://colab.research.google.com/notebooks/data_table.ipynb>data table notebook</a>'\n",
              "          + ' to learn more about interactive tables.';\n",
              "        element.innerHTML = '';\n",
              "        dataTable['output_type'] = 'display_data';\n",
              "        await google.colab.output.renderOutput(dataTable, element);\n",
              "        const docLink = document.createElement('div');\n",
              "        docLink.innerHTML = docLinkHtml;\n",
              "        element.appendChild(docLink);\n",
              "      }\n",
              "    </script>\n",
              "  </div>\n",
              "\n",
              "\n",
              "<div id=\"df-15ba3424-9475-4549-a87c-c0d5054cd233\">\n",
              "  <button class=\"colab-df-quickchart\" onclick=\"quickchart('df-15ba3424-9475-4549-a87c-c0d5054cd233')\"\n",
              "            title=\"Suggest charts\"\n",
              "            style=\"display:none;\">\n",
              "\n",
              "<svg xmlns=\"http://www.w3.org/2000/svg\" height=\"24px\"viewBox=\"0 0 24 24\"\n",
              "     width=\"24px\">\n",
              "    <g>\n",
              "        <path d=\"M19 3H5c-1.1 0-2 .9-2 2v14c0 1.1.9 2 2 2h14c1.1 0 2-.9 2-2V5c0-1.1-.9-2-2-2zM9 17H7v-7h2v7zm4 0h-2V7h2v10zm4 0h-2v-4h2v4z\"/>\n",
              "    </g>\n",
              "</svg>\n",
              "  </button>\n",
              "\n",
              "<style>\n",
              "  .colab-df-quickchart {\n",
              "      --bg-color: #E8F0FE;\n",
              "      --fill-color: #1967D2;\n",
              "      --hover-bg-color: #E2EBFA;\n",
              "      --hover-fill-color: #174EA6;\n",
              "      --disabled-fill-color: #AAA;\n",
              "      --disabled-bg-color: #DDD;\n",
              "  }\n",
              "\n",
              "  [theme=dark] .colab-df-quickchart {\n",
              "      --bg-color: #3B4455;\n",
              "      --fill-color: #D2E3FC;\n",
              "      --hover-bg-color: #434B5C;\n",
              "      --hover-fill-color: #FFFFFF;\n",
              "      --disabled-bg-color: #3B4455;\n",
              "      --disabled-fill-color: #666;\n",
              "  }\n",
              "\n",
              "  .colab-df-quickchart {\n",
              "    background-color: var(--bg-color);\n",
              "    border: none;\n",
              "    border-radius: 50%;\n",
              "    cursor: pointer;\n",
              "    display: none;\n",
              "    fill: var(--fill-color);\n",
              "    height: 32px;\n",
              "    padding: 0;\n",
              "    width: 32px;\n",
              "  }\n",
              "\n",
              "  .colab-df-quickchart:hover {\n",
              "    background-color: var(--hover-bg-color);\n",
              "    box-shadow: 0 1px 2px rgba(60, 64, 67, 0.3), 0 1px 3px 1px rgba(60, 64, 67, 0.15);\n",
              "    fill: var(--button-hover-fill-color);\n",
              "  }\n",
              "\n",
              "  .colab-df-quickchart-complete:disabled,\n",
              "  .colab-df-quickchart-complete:disabled:hover {\n",
              "    background-color: var(--disabled-bg-color);\n",
              "    fill: var(--disabled-fill-color);\n",
              "    box-shadow: none;\n",
              "  }\n",
              "\n",
              "  .colab-df-spinner {\n",
              "    border: 2px solid var(--fill-color);\n",
              "    border-color: transparent;\n",
              "    border-bottom-color: var(--fill-color);\n",
              "    animation:\n",
              "      spin 1s steps(1) infinite;\n",
              "  }\n",
              "\n",
              "  @keyframes spin {\n",
              "    0% {\n",
              "      border-color: transparent;\n",
              "      border-bottom-color: var(--fill-color);\n",
              "      border-left-color: var(--fill-color);\n",
              "    }\n",
              "    20% {\n",
              "      border-color: transparent;\n",
              "      border-left-color: var(--fill-color);\n",
              "      border-top-color: var(--fill-color);\n",
              "    }\n",
              "    30% {\n",
              "      border-color: transparent;\n",
              "      border-left-color: var(--fill-color);\n",
              "      border-top-color: var(--fill-color);\n",
              "      border-right-color: var(--fill-color);\n",
              "    }\n",
              "    40% {\n",
              "      border-color: transparent;\n",
              "      border-right-color: var(--fill-color);\n",
              "      border-top-color: var(--fill-color);\n",
              "    }\n",
              "    60% {\n",
              "      border-color: transparent;\n",
              "      border-right-color: var(--fill-color);\n",
              "    }\n",
              "    80% {\n",
              "      border-color: transparent;\n",
              "      border-right-color: var(--fill-color);\n",
              "      border-bottom-color: var(--fill-color);\n",
              "    }\n",
              "    90% {\n",
              "      border-color: transparent;\n",
              "      border-bottom-color: var(--fill-color);\n",
              "    }\n",
              "  }\n",
              "</style>\n",
              "\n",
              "  <script>\n",
              "    async function quickchart(key) {\n",
              "      const quickchartButtonEl =\n",
              "        document.querySelector('#' + key + ' button');\n",
              "      quickchartButtonEl.disabled = true;  // To prevent multiple clicks.\n",
              "      quickchartButtonEl.classList.add('colab-df-spinner');\n",
              "      try {\n",
              "        const charts = await google.colab.kernel.invokeFunction(\n",
              "            'suggestCharts', [key], {});\n",
              "      } catch (error) {\n",
              "        console.error('Error during call to suggestCharts:', error);\n",
              "      }\n",
              "      quickchartButtonEl.classList.remove('colab-df-spinner');\n",
              "      quickchartButtonEl.classList.add('colab-df-quickchart-complete');\n",
              "    }\n",
              "    (() => {\n",
              "      let quickchartButtonEl =\n",
              "        document.querySelector('#df-15ba3424-9475-4549-a87c-c0d5054cd233 button');\n",
              "      quickchartButtonEl.style.display =\n",
              "        google.colab.kernel.accessAllowed ? 'block' : 'none';\n",
              "    })();\n",
              "  </script>\n",
              "</div>\n",
              "    </div>\n",
              "  </div>\n"
            ]
          },
          "metadata": {},
          "execution_count": 42
        }
      ]
    },
    {
      "cell_type": "markdown",
      "source": [
        "The main tendency is that text classification based on Tf-Idf gives better results and requires less computation than Word2Vec approach.\n",
        "\n",
        "The best classification model for our dataset is SVM and Logistic regression."
      ],
      "metadata": {
        "id": "7HrnoFAJgIjC"
      }
    },
    {
      "cell_type": "code",
      "source": [],
      "metadata": {
        "id": "9Bb9L-62foQd"
      },
      "execution_count": 40,
      "outputs": []
    }
  ]
}